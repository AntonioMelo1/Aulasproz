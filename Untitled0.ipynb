{
  "nbformat": 4,
  "nbformat_minor": 0,
  "metadata": {
    "colab": {
      "provenance": [],
      "authorship_tag": "ABX9TyNdNNV/GGfZ4H6GgJcr/CTo",
      "include_colab_link": true
    },
    "kernelspec": {
      "name": "python3",
      "display_name": "Python 3"
    },
    "language_info": {
      "name": "python"
    }
  },
  "cells": [
    {
      "cell_type": "markdown",
      "metadata": {
        "id": "view-in-github",
        "colab_type": "text"
      },
      "source": [
        "<a href=\"https://colab.research.google.com/github/AntonioMelo1/Aulasproz/blob/main/Untitled0.ipynb\" target=\"_parent\"><img src=\"https://colab.research.google.com/assets/colab-badge.svg\" alt=\"Open In Colab\"/></a>"
      ]
    },
    {
      "cell_type": "code",
      "execution_count": 3,
      "metadata": {
        "colab": {
          "base_uri": "https://localhost:8080/"
        },
        "id": "wKGCN3ep1rlA",
        "outputId": "344fb13f-6362-4d07-f94b-014485dc7e7b"
      },
      "outputs": [
        {
          "output_type": "stream",
          "name": "stdout",
          "text": [
            "Selecione a operação:\n",
            "1: Soma\n",
            "2: Subtração\n",
            "3: Multiplicação\n",
            "4: Divisão\n",
            "0: Sair\n",
            "Digite o número da operação: 0\n",
            "Operação encerrada.\n"
          ]
        }
      ],
      "source": [
        "def soma(a, b):\n",
        "    return a + b\n",
        "\n",
        "def subtracao(a, b):\n",
        "    return a - b\n",
        "\n",
        "def multiplicacao(a, b):\n",
        "    return a * b\n",
        "\n",
        "def divisao(a, b):\n",
        "    if b != 0:\n",
        "        return a / b\n",
        "    else:\n",
        "        return \"Erro: divisão por zero\"\n",
        "\n",
        "while True:\n",
        "    print(\"Selecione a operação:\")\n",
        "    print(\"1: Soma\")\n",
        "    print(\"2: Subtração\")\n",
        "    print(\"3: Multiplicação\")\n",
        "    print(\"4: Divisão\")\n",
        "    print(\"0: Sair\")\n",
        "\n",
        "    opcao = input(\"Digite o número da operação: \")\n",
        "\n",
        "    if opcao == \"0\":\n",
        "        print(\"Operação encerrada.\")\n",
        "        break\n",
        "    elif opcao in [\"1\", \"2\", \"3\", \"4\"]:\n",
        "        num1 = float(input(\"Digite o primeiro valor: \"))\n",
        "        num2 = float(input(\"Digite o segundo valor: \"))\n",
        "\n",
        "        if opcao == \"1\":\n",
        "            resultado = soma(num1, num2)\n",
        "            print(\"Resultado da soma:\", resultado)\n",
        "        elif opcao == \"2\":\n",
        "            resultado = subtracao(num1, num2)\n",
        "            print(\"Resultado da subtração:\", resultado)\n",
        "        elif opcao == \"3\":\n",
        "            resultado = multiplicacao(num1, num2)\n",
        "            print(\"Resultado da multiplicação:\", resultado)\n",
        "        elif opcao == \"4\":\n",
        "            resultado = divisao(num1, num2)\n",
        "            print(\"Resultado da divisão:\", resultado)\n",
        "    else:\n",
        "        print(\"Essa opção não existe. Tente novamente.\")"
      ]
    }
  ]
}