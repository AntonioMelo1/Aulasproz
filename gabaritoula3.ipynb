{
  "nbformat": 4,
  "nbformat_minor": 0,
  "metadata": {
    "colab": {
      "provenance": [],
      "authorship_tag": "ABX9TyOa1p13pRrx7VWdJJFhs97a",
      "include_colab_link": true
    },
    "kernelspec": {
      "name": "python3",
      "display_name": "Python 3"
    },
    "language_info": {
      "name": "python"
    }
  },
  "cells": [
    {
      "cell_type": "markdown",
      "metadata": {
        "id": "view-in-github",
        "colab_type": "text"
      },
      "source": [
        "<a href=\"https://colab.research.google.com/github/AntonioMelo1/Aulasproz/blob/main/gabaritoula3.ipynb\" target=\"_parent\"><img src=\"https://colab.research.google.com/assets/colab-badge.svg\" alt=\"Open In Colab\"/></a>"
      ]
    },
    {
      "cell_type": "code",
      "source": [
        "rodas = 1\n",
        "print(rodas)\n",
        "\n",
        "peso = 1\n",
        "print(peso)\n",
        "\n",
        "qtdPessoas = 1\n",
        "print(qtdPessoas)\n",
        "\n",
        "if(rodas <= 3):\n",
        "  print(\"Melhor categoría de habilitação: A\")\n",
        "\n",
        "elif(rodas == 4) and (qtdPessoas <= 8) and (peso <= 3500):\n",
        "  print(\"Melhor categoría de habilitação: B\")\n",
        "\n",
        "elif(peso >= 3500) and (peso <= 6000):\n",
        "  print(\"Melhor categoría de habilitação: C\")\n",
        "\n",
        "elif(qtdPessoas > 8):\n",
        "  print(\"Melhor categoría de habilitação: D\")\n",
        "\n",
        "elif(peso > 6000):\n",
        "  print(\"Melhor categoría de habilitação: E\")\n",
        "\n",
        "\n",
        "\n",
        "\n",
        "\n",
        "\n",
        "\n",
        "\n",
        "\n",
        "\n",
        "\n",
        "\n",
        "\n"
      ],
      "metadata": {
        "colab": {
          "base_uri": "https://localhost:8080/"
        },
        "id": "8mkqkRcpGDnh",
        "outputId": "8c379dd7-2263-44d6-9126-7453ae48cb0e"
      },
      "execution_count": null,
      "outputs": [
        {
          "output_type": "stream",
          "name": "stdout",
          "text": [
            "1\n",
            "1\n",
            "1\n",
            "Melhor categoría de habilitação: A\n"
          ]
        }
      ]
    },
    {
      "cell_type": "code",
      "source": [
        "altura = 1.6\n",
        "print(altura)\n",
        "peso = 110\n",
        "print(peso)\n",
        "resultmult = (altura * altura)\n",
        "print (resultmult)\n",
        "resultado = (peso / resultmult)\n",
        "print (resultado)\n",
        "\n",
        "if (resultado < 18.4):\n",
        "  print(\"Você está abaixo do peso!\")\n",
        "\n",
        "elif (resultado >= 18.5) and (resultado < 25):\n",
        "  print(\"Peso adequado\")\n",
        "\n",
        "elif (resultado > 25) and (resultado < 30):\n",
        "  print(\"Você está com sobrepeso!\")\n",
        "\n",
        "elif (resultado > 30) and (resultado < 35):\n",
        "  print(\"Obesidade grau 1\")\n",
        "\n",
        "elif (resultado > 35) and (resultado < 40):\n",
        "  print(\"Obesidade grau 2\")\n",
        "\n",
        "elif(resultado > 40):\n",
        "  print(\"Você está obeso!\")\n",
        "\n",
        "\n",
        "\n",
        "\n",
        "\n",
        "\n"
      ],
      "metadata": {
        "id": "ecvimOPkOWel",
        "colab": {
          "base_uri": "https://localhost:8080/"
        },
        "outputId": "c4256cb4-6172-4873-da44-95598c62a211"
      },
      "execution_count": 23,
      "outputs": [
        {
          "output_type": "stream",
          "name": "stdout",
          "text": [
            "1.6\n",
            "110\n",
            "2.5600000000000005\n",
            "42.96874999999999\n",
            "Você está obeso!\n"
          ]
        }
      ]
    },
    {
      "cell_type": "code",
      "source": [],
      "metadata": {
        "id": "LDLvCfue0bW8"
      },
      "execution_count": null,
      "outputs": []
    },
    {
      "cell_type": "code",
      "source": [
        "def calculadoraImc(peso, altura):\n",
        "\n",
        "     imc = peso/(altura*altura) * 10000\n",
        "\n",
        "     if (imc <= 18.5): return \"Magreza\"\n",
        "\n",
        "     elif (imc > 18.5) and (imc <= 24.9): return \"Saudavel\"\n",
        "\n",
        "     elif (imc >= 25) and (imc <= 29.9): return \"Sobrepeso\"\n",
        "\n",
        "     elif (imc > 30) and (imc <= 34.9): return \"Obesidade grau 1\"\n",
        "\n",
        "     elif (imc > 35) and (imc <= 39.9): return \"Obesidade severa grau 2\"\n",
        "\n",
        "     else : return \"Obesidade morbida grau 3\"\n",
        "\n",
        "peso = 60\n",
        "\n",
        "altura = 160\n",
        "\n",
        "resultado = calculadoraImc(peso,altura)\n",
        "\n",
        "print(resultado)"
      ],
      "metadata": {
        "colab": {
          "base_uri": "https://localhost:8080/"
        },
        "id": "Q7jEx-Fre_05",
        "outputId": "1a1b5efa-5c75-47a5-8074-2218925ac040"
      },
      "execution_count": 21,
      "outputs": [
        {
          "output_type": "stream",
          "name": "stdout",
          "text": [
            "Saudavel\n"
          ]
        }
      ]
    },
    {
      "cell_type": "code",
      "source": [
        "def calculadora(num1, num2, operacao):\n",
        "    if operacao == 1:  # Soma\n",
        "        return num1 + num2\n",
        "    elif operacao == 2:  # Subtração\n",
        "        return num1 - num2\n",
        "    elif operacao == 3:  # Multiplicação\n",
        "        return num1 * num2\n",
        "    elif operacao == 4:  # Divisão\n",
        "        if num2 != 0:\n",
        "            return num1 / num2\n",
        "        else:\n",
        "            print(\"Erro: Divisão por zero não é permitida.\")\n",
        "            return 0\n",
        "    else:\n",
        "        print(\"Erro: Operação não reconhecida.\")\n",
        "        return 0\n",
        "\n",
        "num1 = 5\n",
        "num2 = 5\n",
        "\n",
        "operacao = 3\n",
        "\n",
        "resultado = calculadora(num1, num2, operacao)\n",
        "\n",
        "print(resultado)"
      ],
      "metadata": {
        "colab": {
          "base_uri": "https://localhost:8080/"
        },
        "id": "FdarKNcY0eN0",
        "outputId": "3e05e715-4033-4705-9da1-db6171cd6f08"
      },
      "execution_count": 34,
      "outputs": [
        {
          "output_type": "stream",
          "name": "stdout",
          "text": [
            "25\n"
          ]
        }
      ]
    }
  ]
}