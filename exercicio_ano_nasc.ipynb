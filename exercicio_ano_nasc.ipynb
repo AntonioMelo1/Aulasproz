{
  "nbformat": 4,
  "nbformat_minor": 0,
  "metadata": {
    "colab": {
      "provenance": [],
      "authorship_tag": "ABX9TyON9GSQ0CUgxZfPpzPSdovJ",
      "include_colab_link": true
    },
    "kernelspec": {
      "name": "python3",
      "display_name": "Python 3"
    },
    "language_info": {
      "name": "python"
    }
  },
  "cells": [
    {
      "cell_type": "markdown",
      "metadata": {
        "id": "view-in-github",
        "colab_type": "text"
      },
      "source": [
        "<a href=\"https://colab.research.google.com/github/AntonioMelo1/Aulasproz/blob/main/exercicio_ano_nasc.ipynb\" target=\"_parent\"><img src=\"https://colab.research.google.com/assets/colab-badge.svg\" alt=\"Open In Colab\"/></a>"
      ]
    },
    {
      "cell_type": "code",
      "execution_count": 3,
      "metadata": {
        "colab": {
          "base_uri": "https://localhost:8080/"
        },
        "id": "JpDpAnJUINe8",
        "outputId": "3becbd95-0c83-4af0-db03-98bb8ebf312c"
      },
      "outputs": [
        {
          "output_type": "stream",
          "name": "stdout",
          "text": [
            "Digite seu nome completo: Papa Francisco\n",
            "Digite o ano de nascimento (1922-2021): 1936\n",
            "Nome: Papa Francisco\n",
            "Idade em 2022: 87 anos\n"
          ]
        }
      ],
      "source": [
        "import datetime\n",
        "\n",
        "def obter_ano_nascimento():\n",
        "    while True:\n",
        "        try:\n",
        "            ano_nascimento = int(input(\"Digite o ano de nascimento (1922-2021): \"))\n",
        "            if 1922 <= ano_nascimento <= 2021:\n",
        "                return ano_nascimento\n",
        "            else:\n",
        "                print(\"Ano de nascimento fora do intervalo válido. Tente novamente.\")\n",
        "        except ValueError:\n",
        "            print(\"Valor inválido. Digite um ano válido.\")\n",
        "\n",
        "def calcular_idade(ano_nascimento):\n",
        "    ano_atual = datetime.datetime.now().year\n",
        "    return ano_atual - ano_nascimento\n",
        "\n",
        "nome = input(\"Digite seu nome completo: \")\n",
        "ano_nascimento = obter_ano_nascimento()\n",
        "idade = calcular_idade(ano_nascimento)\n",
        "\n",
        "print(f\"Nome: {nome}\")\n",
        "print(f\"Idade em 2022: {idade} anos\")\n",
        "\n",
        "\n",
        "\n",
        "\n",
        "\n"
      ]
    }
  ]
}